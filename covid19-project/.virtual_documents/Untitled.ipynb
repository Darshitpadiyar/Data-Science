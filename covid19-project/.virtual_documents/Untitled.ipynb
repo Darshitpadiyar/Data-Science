import pandas as pd 
import matplotlib.pyplot as plt 
import numpy as np 
import plotly.graph_objs as go
import plotly.io as pio 
import plotly.express as px 
# Importing Plotly
import plotly.offline as py
py.init_notebook_mode(connected=True)

# Initializing Plotly
pio.renderers.default = 'colab'


# Importing Dataset1
dataset1 = pd.read_csv("covid.csv")
dataset1.head()  # returns first 5 rows


# Returns tuple of shape (Rows, columns)
print(dataset1.shape)

# Returns size of dataframe
print(dataset1.size)


dataset1.info() 


dataset1.columns


dataset1.drop(['NewCases', 'NewDeaths', 'NewRecovered'], 
              axis=1, inplace=True)

# Select random set of values from dataset1
dataset1.sample(5)






from plotly.figure_factory import create_table

colorscale = [[0, '#4d004c'], [.5, '#f2e5ff'], [1, '#ffffff']]
table = create_table(dataset1.head(15), colorscale=colorscale)
py.iplot(table)


px.bar(dataset1.head(15), x = 'Country/Region', 
       y = 'TotalCases',color = 'TotalDeaths', 
       height = 500,hover_data = ['Country/Region', 'Continent','TotalDeaths'])





px.bar(dataset1.head(15),x="TotalCases",y="Country/Region",color="Deaths/1M pop",orientation='h',hover_data=["Country/Region","TotalCases"])



