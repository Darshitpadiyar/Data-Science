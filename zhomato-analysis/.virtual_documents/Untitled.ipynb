import numpy as np
import matplotlib.pyplot as plt 
import pandas as pd 
import seaborn as sns


df= pd.read_csv("Zomato-data-.csv")
df.head()


#To make the rating column float and remave the denominator 
def handleRate(value):
    value=str(value).split("/")
    value=value[0]
    return value
df["rate"]=df["rate"].apply(handleRate)


df.head()


df.info()



max_votes=df["votes"].max()
max_votes
rest=df.loc[df["votes"]==max_votes,"name"]
rest1=str(rest).split(" ")[4]
print(f"Restaurants with max votes :{rest1} with votes={max_votes}")
print(rest1)


sns.countplot(x=df["online_order"],palette=["red","green"])


sns.countplot(data=df,x='listed_in(type)', hue='listed_in(type)',palette='husl',legend=False)
plt.xlabel("Types of restorant")


grouped_data = df.groupby('listed_in(type)')['votes'].sum()
print(grouped_data)
result=pd.DataFrame(grouped_data)
sns.lineplot(data=result,palette=["red"],markers='o')


data=df["rate"]
bins=[1,2,3,4,5]
plt.hist(data,bins=bins,edgecolor="black")



couple_data=df['approx_cost(for two people)']
sns.countplot(x=couple_data,color=)


df["approx_cost(for two people)"].unique()



